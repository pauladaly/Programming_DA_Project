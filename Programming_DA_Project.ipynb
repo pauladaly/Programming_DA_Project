{
 "cells": [
  {
   "cell_type": "markdown",
   "metadata": {},
   "source": [
    "# What is Synthetic Data?\n",
    "\n",
    "Synthetic data is manufactured information rather that recoreded from real-world events.  It's self-generated to try and mimic real world data."
   ]
  },
  {
   "cell_type": "markdown",
   "metadata": {},
   "source": [
    "# ARE YOU AT RISK OF TYPE 2 DIABETES?\n",
    "\n",
    "The number of people with diabetes in Ireland is growing rapidly. At present there are an estimated 200,000 people with the condition with approximately 30,000 of these undiagnosed.\n",
    "Knowing the symptoms and risk factors for Type 2 diabetes is important as non-diagnosis can seriously affect your quality of life. Undiagnosed or poor controlled diabetes can damage your heart, arteries, eyes, nerves and kidneys leading to serious health problems for you and your family to cope with.\n",
    "\n",
    "You are more at risk of getting Type 2 diabetes if you are:\n",
    "- Over 40 years of age\n",
    "- Have a parent or brother/sister with diabetes\n",
    "- Are overweight for your height - (BMI)\n",
    "- Do not take 30 minutes of physical activity daily\n",
    "\n",
    "Prediction\n",
    "\n",
    "\n",
    "These are the variables I have chosen for this project.\n",
    "The age group the analyses was completed on was 18 - 65 year olds with a sample of 200 people.\n",
    "\n",
    "Body Mass Categories are defined as follows:\n",
    "\n",
    "- Underweight: <18.5\n",
    "- Normal: 18.5 - 25\n",
    "- Overweight: 25 - 30\n",
    "- Obese: >30\n",
    "\n",
    "In Ireland 37% normal 37% Overweigh, 23% Obese, 3% Underweight\n",
    "\n",
    "Exercise\n",
    "32% of population considered to be sufficienly active to meet the national guidelines of 30 min per day\n",
    "\n",
    "Currenty population of ireland is 4.83 million and there are approximately 200,000 people with type 2 Diabetes (4.14%)\n",
    "\n",
    "Type 2 diabetes 200,000 approx\n"
   ]
  },
  {
   "cell_type": "code",
   "execution_count": null,
   "metadata": {},
   "outputs": [],
   "source": []
  },
  {
   "cell_type": "code",
   "execution_count": 91,
   "metadata": {},
   "outputs": [],
   "source": [
    "# Import required modules to create and analayse dataframe\n",
    "import pandas as pd\n",
    "import numpy as np\n",
    "import matplotlib.pyplot as plt\n",
    "import seaborn as sns"
   ]
  },
  {
   "cell_type": "code",
   "execution_count": 34,
   "metadata": {},
   "outputs": [
    {
     "name": "stdout",
     "output_type": "stream",
     "text": [
      "Empty DataFrame\n",
      "Columns: [Age, Family, BMI, Exercise, Type2Diabetic]\n",
      "Index: []\n"
     ]
    }
   ],
   "source": [
    "# Create an empty dataframe with column names\n",
    "df = pd.DataFrame(columns=['Age', 'Family', 'BMI', 'Exercise', 'Type2Diabetic'])\n",
    "\n",
    "# View the dataframe\n",
    "print(df)"
   ]
  },
  {
   "cell_type": "code",
   "execution_count": 35,
   "metadata": {},
   "outputs": [],
   "source": [
    "age = np.random.randint(18, 66, 200)"
   ]
  },
  {
   "cell_type": "code",
   "execution_count": 36,
   "metadata": {},
   "outputs": [
    {
     "data": {
      "text/plain": [
       "array([24, 53, 55, 61, 43, 47, 61, 43, 54, 40, 65, 52, 25, 60, 44, 26, 57,\n",
       "       43, 58, 49, 64, 48, 40, 29, 47, 18, 46, 41, 65, 40, 45, 35, 21, 22,\n",
       "       53, 47, 52, 43, 27, 55, 31, 21, 42, 45, 58, 55, 23, 43, 41, 36, 29,\n",
       "       38, 64, 54, 24, 54, 50, 48, 54, 23, 19, 39, 61, 22, 62, 51, 30, 32,\n",
       "       59, 62, 23, 29, 59, 37, 25, 30, 60, 29, 31, 42, 31, 61, 53, 56, 52,\n",
       "       48, 20, 58, 51, 42, 56, 47, 55, 22, 57, 38, 34, 23, 43, 37, 33, 35,\n",
       "       62, 21, 42, 55, 30, 61, 44, 22, 22, 44, 48, 44, 19, 20, 45, 41, 27,\n",
       "       55, 25, 33, 46, 58, 35, 40, 39, 54, 43, 46, 47, 52, 65, 32, 54, 27,\n",
       "       42, 52, 24, 39, 53, 32, 60, 64, 41, 50, 43, 47, 59, 18, 25, 47, 60,\n",
       "       48, 49, 52, 29, 47, 48, 41, 49, 60, 56, 18, 18, 50, 49, 41, 38, 32,\n",
       "       55, 24, 37, 30, 19, 56, 48, 27, 54, 35, 36, 41, 36, 38, 23, 26, 46,\n",
       "       59, 59, 30, 53, 51, 25, 40, 26, 38, 29, 64, 51, 49])"
      ]
     },
     "execution_count": 36,
     "metadata": {},
     "output_type": "execute_result"
    }
   ],
   "source": [
    "# Generate Age column - between 18 and 65\n",
    "\n",
    "age = np.random.randint(18, 66, 200)\n",
    "age"
   ]
  },
  {
   "cell_type": "code",
   "execution_count": 37,
   "metadata": {},
   "outputs": [
    {
     "data": {
      "text/plain": [
       "42.345"
      ]
     },
     "execution_count": 37,
     "metadata": {},
     "output_type": "execute_result"
    }
   ],
   "source": [
    "# Avearage age of people in the survey\n",
    "np.mean(age)"
   ]
  },
  {
   "cell_type": "code",
   "execution_count": 70,
   "metadata": {},
   "outputs": [
    {
     "data": {
      "image/png": "[encoded data removed]",
      "text/plain": [
       "<Figure size 864x576 with 1 Axes>"
      ]
     },
     "metadata": {},
     "output_type": "display_data"
    }
   ],
   "source": [
    "# Histogram\n",
    "plt.figure(figsize=(12,8), facecolor='w', edgecolor='k', clear='True')\n",
    "plt.hist(age, bins=100)\n",
    "plt.xlabel('age')\n",
    "plt.show()"
   ]
  },
  {
   "cell_type": "markdown",
   "metadata": {},
   "source": []
  },
  {
   "cell_type": "code",
   "execution_count": 38,
   "metadata": {},
   "outputs": [
    {
     "data": {
      "text/plain": [
       "array(['No', 'No', 'No', 'Yes', 'Yes', 'Yes', 'Yes', 'No', 'Yes', 'Yes',\n",
       "       'Yes', 'Yes', 'Yes', 'Yes', 'Yes', 'Yes', 'Yes', 'No', 'Yes', 'No',\n",
       "       'Yes', 'Yes', 'No', 'No', 'No', 'Yes', 'Yes', 'No', 'Yes', 'Yes',\n",
       "       'Yes', 'Yes', 'No', 'No', 'Yes', 'No', 'No', 'Yes', 'Yes', 'Yes',\n",
       "       'Yes', 'Yes', 'No', 'No', 'Yes', 'No', 'Yes', 'Yes', 'Yes', 'Yes',\n",
       "       'Yes', 'Yes', 'No', 'Yes', 'Yes', 'Yes', 'Yes', 'No', 'Yes', 'Yes',\n",
       "       'Yes', 'No', 'Yes', 'Yes', 'Yes', 'No', 'Yes', 'No', 'No', 'No',\n",
       "       'Yes', 'Yes', 'Yes', 'Yes', 'Yes', 'Yes', 'No', 'No', 'Yes', 'No',\n",
       "       'Yes', 'Yes', 'No', 'Yes', 'Yes', 'Yes', 'No', 'No', 'Yes', 'Yes',\n",
       "       'Yes', 'Yes', 'Yes', 'Yes', 'No', 'Yes', 'Yes', 'No', 'Yes', 'Yes',\n",
       "       'Yes', 'No', 'Yes', 'Yes', 'No', 'No', 'Yes', 'Yes', 'No', 'No',\n",
       "       'Yes', 'Yes', 'No', 'Yes', 'No', 'Yes', 'Yes', 'No', 'Yes', 'Yes',\n",
       "       'Yes', 'Yes', 'Yes', 'Yes', 'Yes', 'Yes', 'Yes', 'No', 'Yes', 'No',\n",
       "       'Yes', 'No', 'Yes', 'Yes', 'Yes', 'No', 'No', 'No', 'Yes', 'Yes',\n",
       "       'Yes', 'Yes', 'No', 'No', 'No', 'No', 'Yes', 'Yes', 'Yes', 'Yes',\n",
       "       'Yes', 'Yes', 'Yes', 'No', 'Yes', 'Yes', 'No', 'Yes', 'Yes', 'Yes',\n",
       "       'No', 'Yes', 'Yes', 'No', 'Yes', 'Yes', 'Yes', 'Yes', 'Yes', 'Yes',\n",
       "       'Yes', 'Yes', 'Yes', 'Yes', 'Yes', 'Yes', 'Yes', 'No', 'Yes', 'No',\n",
       "       'Yes', 'Yes', 'Yes', 'Yes', 'Yes', 'Yes', 'Yes', 'No', 'Yes',\n",
       "       'Yes', 'No', 'Yes', 'Yes', 'Yes', 'Yes', 'No', 'Yes', 'Yes', 'Yes',\n",
       "       'Yes'], dtype='<U3')"
      ]
     },
     "execution_count": 38,
     "metadata": {},
     "output_type": "execute_result"
    }
   ],
   "source": [
    "# Genearate Family (yes/no)\n",
    "Family = ['Yes', 'No']\n",
    "\n",
    "# Populate Family using probabilities\n",
    "Family = np.random.choice(Family, 200, p=[0.70, 0.30])\n",
    "\n",
    "Family"
   ]
  },
  {
   "cell_type": "code",
   "execution_count": 39,
   "metadata": {},
   "outputs": [
    {
     "data": {
      "text/plain": [
       "array(['Normal', 'Obese', 'Overweight', 'Normal', 'Normal', 'Overweight',\n",
       "       'Overweight', 'Obese', 'Normal', 'Overweight', 'Overweight',\n",
       "       'Overweight', 'Normal', 'Obese', 'Normal', 'Normal', 'Normal',\n",
       "       'Normal', 'Normal', 'Overweight', 'Normal', 'Overweight', 'Obese',\n",
       "       'Obese', 'Overweight', 'Obese', 'Normal', 'Overweight', 'Obese',\n",
       "       'Overweight', 'Normal', 'Normal', 'Underweight', 'Overweight',\n",
       "       'Obese', 'Obese', 'Obese', 'Overweight', 'Overweight',\n",
       "       'Underweight', 'Normal', 'Overweight', 'Normal', 'Normal', 'Obese',\n",
       "       'Normal', 'Overweight', 'Normal', 'Overweight', 'Obese', 'Normal',\n",
       "       'Normal', 'Normal', 'Overweight', 'Obese', 'Normal', 'Normal',\n",
       "       'Obese', 'Normal', 'Overweight', 'Overweight', 'Obese', 'Normal',\n",
       "       'Obese', 'Normal', 'Obese', 'Normal', 'Overweight', 'Normal',\n",
       "       'Obese', 'Obese', 'Overweight', 'Normal', 'Normal', 'Obese',\n",
       "       'Normal', 'Normal', 'Overweight', 'Obese', 'Overweight',\n",
       "       'Overweight', 'Normal', 'Normal', 'Normal', 'Normal', 'Normal',\n",
       "       'Normal', 'Normal', 'Overweight', 'Obese', 'Overweight', 'Normal',\n",
       "       'Obese', 'Normal', 'Overweight', 'Normal', 'Normal', 'Overweight',\n",
       "       'Overweight', 'Overweight', 'Underweight', 'Normal', 'Overweight',\n",
       "       'Obese', 'Obese', 'Overweight', 'Obese', 'Obese', 'Obese',\n",
       "       'Overweight', 'Normal', 'Obese', 'Overweight', 'Normal', 'Normal',\n",
       "       'Overweight', 'Overweight', 'Normal', 'Obese', 'Normal', 'Normal',\n",
       "       'Normal', 'Normal', 'Normal', 'Overweight', 'Overweight', 'Normal',\n",
       "       'Overweight', 'Overweight', 'Normal', 'Normal', 'Overweight',\n",
       "       'Overweight', 'Overweight', 'Normal', 'Normal', 'Normal', 'Obese',\n",
       "       'Normal', 'Normal', 'Obese', 'Normal', 'Obese', 'Overweight',\n",
       "       'Obese', 'Normal', 'Obese', 'Obese', 'Normal', 'Obese', 'Obese',\n",
       "       'Overweight', 'Normal', 'Obese', 'Obese', 'Overweight', 'Obese',\n",
       "       'Obese', 'Obese', 'Obese', 'Normal', 'Overweight', 'Obese',\n",
       "       'Obese', 'Overweight', 'Normal', 'Obese', 'Normal', 'Normal',\n",
       "       'Normal', 'Normal', 'Overweight', 'Normal', 'Obese', 'Normal',\n",
       "       'Overweight', 'Normal', 'Normal', 'Obese', 'Obese', 'Overweight',\n",
       "       'Overweight', 'Obese', 'Normal', 'Overweight', 'Normal',\n",
       "       'Underweight', 'Normal', 'Normal', 'Obese', 'Normal', 'Overweight',\n",
       "       'Normal', 'Normal', 'Normal', 'Overweight', 'Normal', 'Overweight',\n",
       "       'Overweight', 'Overweight'], dtype='<U11')"
      ]
     },
     "execution_count": 39,
     "metadata": {},
     "output_type": "execute_result"
    }
   ],
   "source": [
    "# Generate BMI\n",
    "BMI = ['Underweight', 'Normal', 'Overweight', 'Obese']\n",
    "\n",
    "# Populate BMI using probabilities\n",
    "BMI = np.random.choice(BMI, 200, p=[0.03, 0.37, 0.37, 0.23])\n",
    "\n",
    "BMI"
   ]
  },
  {
   "cell_type": "code",
   "execution_count": 106,
   "metadata": {},
   "outputs": [
    {
     "data": {
      "text/plain": [
       "[30,\n",
       " 20,\n",
       " 0,\n",
       " 40,\n",
       " 0,\n",
       " 0,\n",
       " 40,\n",
       " 20,\n",
       " 20,\n",
       " 0,\n",
       " 60,\n",
       " 0,\n",
       " 30,\n",
       " 20,\n",
       " 40,\n",
       " 20,\n",
       " 60,\n",
       " 30,\n",
       " 0,\n",
       " 20,\n",
       " 60,\n",
       " 60,\n",
       " 40,\n",
       " 40,\n",
       " 20,\n",
       " 60,\n",
       " 40,\n",
       " 20,\n",
       " 30,\n",
       " 0,\n",
       " 0,\n",
       " 40,\n",
       " 0,\n",
       " 0,\n",
       " 20,\n",
       " 0,\n",
       " 20,\n",
       " 0,\n",
       " 30,\n",
       " 20,\n",
       " 40,\n",
       " 40,\n",
       " 60,\n",
       " 60,\n",
       " 40,\n",
       " 40,\n",
       " 60,\n",
       " 60,\n",
       " 30,\n",
       " 0,\n",
       " 40,\n",
       " 60,\n",
       " 0,\n",
       " 20,\n",
       " 60,\n",
       " 20,\n",
       " 40,\n",
       " 60,\n",
       " 30,\n",
       " 20,\n",
       " 60,\n",
       " 40,\n",
       " 60,\n",
       " 30,\n",
       " 0,\n",
       " 20,\n",
       " 40,\n",
       " 40,\n",
       " 60,\n",
       " 40,\n",
       " 60,\n",
       " 40,\n",
       " 20,\n",
       " 60,\n",
       " 20,\n",
       " 60,\n",
       " 40,\n",
       " 60,\n",
       " 0,\n",
       " 30,\n",
       " 40,\n",
       " 40,\n",
       " 30,\n",
       " 60,\n",
       " 40,\n",
       " 40,\n",
       " 60,\n",
       " 30,\n",
       " 60,\n",
       " 20,\n",
       " 30,\n",
       " 60,\n",
       " 60,\n",
       " 60,\n",
       " 40,\n",
       " 0,\n",
       " 30,\n",
       " 0,\n",
       " 40,\n",
       " 30,\n",
       " 30,\n",
       " 30,\n",
       " 40,\n",
       " 40,\n",
       " 0,\n",
       " 60,\n",
       " 30,\n",
       " 0,\n",
       " 30,\n",
       " 30,\n",
       " 60,\n",
       " 40,\n",
       " 0,\n",
       " 20,\n",
       " 0,\n",
       " 0,\n",
       " 0,\n",
       " 20,\n",
       " 30,\n",
       " 20,\n",
       " 60,\n",
       " 30,\n",
       " 40,\n",
       " 30,\n",
       " 30,\n",
       " 0,\n",
       " 30,\n",
       " 60,\n",
       " 20,\n",
       " 40,\n",
       " 20,\n",
       " 40,\n",
       " 60,\n",
       " 0,\n",
       " 0,\n",
       " 0,\n",
       " 0,\n",
       " 40,\n",
       " 0,\n",
       " 30,\n",
       " 0,\n",
       " 30,\n",
       " 0,\n",
       " 30,\n",
       " 20,\n",
       " 20,\n",
       " 30,\n",
       " 20,\n",
       " 60,\n",
       " 30,\n",
       " 30,\n",
       " 40,\n",
       " 20,\n",
       " 60,\n",
       " 40,\n",
       " 20,\n",
       " 30,\n",
       " 40,\n",
       " 0,\n",
       " 30,\n",
       " 30,\n",
       " 0,\n",
       " 40,\n",
       " 40,\n",
       " 30,\n",
       " 20,\n",
       " 20,\n",
       " 60,\n",
       " 40,\n",
       " 30,\n",
       " 0,\n",
       " 0,\n",
       " 30,\n",
       " 0,\n",
       " 40,\n",
       " 60,\n",
       " 20,\n",
       " 20,\n",
       " 0,\n",
       " 30,\n",
       " 60,\n",
       " 20,\n",
       " 30,\n",
       " 20,\n",
       " 20,\n",
       " 40,\n",
       " 60,\n",
       " 30,\n",
       " 20,\n",
       " 40,\n",
       " 0,\n",
       " 20,\n",
       " 60,\n",
       " 0,\n",
       " 0,\n",
       " 20,\n",
       " 60,\n",
       " 40,\n",
       " 40,\n",
       " 30]"
      ]
     },
     "execution_count": 106,
     "metadata": {},
     "output_type": "execute_result"
    }
   ],
   "source": [
    "# Exercise\n",
    "import random\n",
    "\n",
    "# Populate Exercise using probabilities\n",
    "ExerciseDaily = [0, 20, 30, 40, 60]\n",
    "\n",
    "Exercise = (random.choices(ExerciseDaily, k=200))\n",
    "Exercise"
   ]
  },
  {
   "cell_type": "code",
   "execution_count": 107,
   "metadata": {},
   "outputs": [
    {
     "data": {
      "text/plain": [
       "array(['No', 'No', 'No', 'No', 'No', 'No', 'No', 'No', 'Yes', 'No', 'No',\n",
       "       'No', 'No', 'No', 'No', 'No', 'No', 'No', 'Yes', 'No', 'No', 'No',\n",
       "       'Yes', 'No', 'No', 'No', 'Yes', 'No', 'No', 'No', 'No', 'No', 'No',\n",
       "       'Yes', 'No', 'No', 'No', 'No', 'No', 'No', 'Yes', 'Yes', 'No',\n",
       "       'No', 'No', 'No', 'No', 'No', 'No', 'Yes', 'No', 'No', 'No', 'No',\n",
       "       'No', 'No', 'No', 'No', 'No', 'No', 'No', 'No', 'No', 'Yes', 'Yes',\n",
       "       'No', 'No', 'No', 'No', 'No', 'Yes', 'No', 'No', 'Yes', 'Yes',\n",
       "       'No', 'No', 'No', 'No', 'Yes', 'No', 'No', 'No', 'Yes', 'No',\n",
       "       'Yes', 'Yes', 'No', 'No', 'No', 'No', 'Yes', 'No', 'No', 'No',\n",
       "       'Yes', 'No', 'Yes', 'No', 'No', 'No', 'No', 'No', 'No', 'No', 'No',\n",
       "       'No', 'No', 'No', 'No', 'Yes', 'No', 'No', 'No', 'No', 'No', 'No',\n",
       "       'No', 'No', 'No', 'No', 'No', 'No', 'Yes', 'No', 'No', 'No', 'No',\n",
       "       'No', 'No', 'No', 'No', 'No', 'No', 'No', 'No', 'No', 'No', 'No',\n",
       "       'No', 'No', 'No', 'No', 'No', 'No', 'No', 'No', 'No', 'No', 'No',\n",
       "       'No', 'No', 'Yes', 'No', 'Yes', 'No', 'No', 'No', 'No', 'No', 'No',\n",
       "       'No', 'No', 'No', 'No', 'No', 'No', 'No', 'No', 'No', 'No', 'No',\n",
       "       'No', 'No', 'No', 'No', 'No', 'Yes', 'No', 'No', 'No', 'No', 'No',\n",
       "       'No', 'No', 'No', 'Yes', 'No', 'Yes', 'No', 'No', 'No', 'No', 'No',\n",
       "       'No', 'No', 'No', 'No', 'No', 'Yes'], dtype='<U3')"
      ]
     },
     "execution_count": 107,
     "metadata": {},
     "output_type": "execute_result"
    }
   ],
   "source": [
    "# Type 2 Diabetic\n",
    "\n",
    "Type2Diabetic = ['Yes', 'No']\n",
    "\n",
    "# Populate Type2Diabetic using probabilities\n",
    "Type2Diabetic = np.random.choice(Type2Diabetic, 200, p=[0.14, 0.86])\n",
    "\n",
    "Type2Diabetic"
   ]
  },
  {
   "cell_type": "code",
   "execution_count": 108,
   "metadata": {},
   "outputs": [],
   "source": [
    "# Dataframe with columns filled in\n",
    "df = pd.DataFrame({'Age':age,'Family':Family,'BMI':BMI,'Exercise':Exercise,'Type2Diabetic':Type2Diabetic})"
   ]
  },
  {
   "cell_type": "code",
   "execution_count": 109,
   "metadata": {},
   "outputs": [
    {
     "data": {
      "text/html": [
       "<div>\n",
       "<style scoped>\n",
       "    .dataframe tbody tr th:only-of-type {\n",
       "        vertical-align: middle;\n",
       "    }\n",
       "\n",
       "    .dataframe tbody tr th {\n",
       "        vertical-align: top;\n",
       "    }\n",
       "\n",
       "    .dataframe thead th {\n",
       "        text-align: right;\n",
       "    }\n",
       "</style>\n",
       "<table border=\"1\" class=\"dataframe\">\n",
       "  <thead>\n",
       "    <tr style=\"text-align: right;\">\n",
       "      <th></th>\n",
       "      <th>Age</th>\n",
       "      <th>Family</th>\n",
       "      <th>BMI</th>\n",
       "      <th>Exercise</th>\n",
       "      <th>Type2Diabetic</th>\n",
       "    </tr>\n",
       "  </thead>\n",
       "  <tbody>\n",
       "    <tr>\n",
       "      <th>0</th>\n",
       "      <td>24</td>\n",
       "      <td>No</td>\n",
       "      <td>Normal</td>\n",
       "      <td>30</td>\n",
       "      <td>No</td>\n",
       "    </tr>\n",
       "    <tr>\n",
       "      <th>1</th>\n",
       "      <td>53</td>\n",
       "      <td>No</td>\n",
       "      <td>Obese</td>\n",
       "      <td>20</td>\n",
       "      <td>No</td>\n",
       "    </tr>\n",
       "    <tr>\n",
       "      <th>2</th>\n",
       "      <td>55</td>\n",
       "      <td>No</td>\n",
       "      <td>Overweight</td>\n",
       "      <td>0</td>\n",
       "      <td>No</td>\n",
       "    </tr>\n",
       "    <tr>\n",
       "      <th>3</th>\n",
       "      <td>61</td>\n",
       "      <td>Yes</td>\n",
       "      <td>Normal</td>\n",
       "      <td>40</td>\n",
       "      <td>No</td>\n",
       "    </tr>\n",
       "    <tr>\n",
       "      <th>4</th>\n",
       "      <td>43</td>\n",
       "      <td>Yes</td>\n",
       "      <td>Normal</td>\n",
       "      <td>0</td>\n",
       "      <td>No</td>\n",
       "    </tr>\n",
       "    <tr>\n",
       "      <th>5</th>\n",
       "      <td>47</td>\n",
       "      <td>Yes</td>\n",
       "      <td>Overweight</td>\n",
       "      <td>0</td>\n",
       "      <td>No</td>\n",
       "    </tr>\n",
       "    <tr>\n",
       "      <th>6</th>\n",
       "      <td>61</td>\n",
       "      <td>Yes</td>\n",
       "      <td>Overweight</td>\n",
       "      <td>40</td>\n",
       "      <td>No</td>\n",
       "    </tr>\n",
       "    <tr>\n",
       "      <th>7</th>\n",
       "      <td>43</td>\n",
       "      <td>No</td>\n",
       "      <td>Obese</td>\n",
       "      <td>20</td>\n",
       "      <td>No</td>\n",
       "    </tr>\n",
       "    <tr>\n",
       "      <th>8</th>\n",
       "      <td>54</td>\n",
       "      <td>Yes</td>\n",
       "      <td>Normal</td>\n",
       "      <td>20</td>\n",
       "      <td>Yes</td>\n",
       "    </tr>\n",
       "    <tr>\n",
       "      <th>9</th>\n",
       "      <td>40</td>\n",
       "      <td>Yes</td>\n",
       "      <td>Overweight</td>\n",
       "      <td>0</td>\n",
       "      <td>No</td>\n",
       "    </tr>\n",
       "    <tr>\n",
       "      <th>10</th>\n",
       "      <td>65</td>\n",
       "      <td>Yes</td>\n",
       "      <td>Overweight</td>\n",
       "      <td>60</td>\n",
       "      <td>No</td>\n",
       "    </tr>\n",
       "    <tr>\n",
       "      <th>11</th>\n",
       "      <td>52</td>\n",
       "      <td>Yes</td>\n",
       "      <td>Overweight</td>\n",
       "      <td>0</td>\n",
       "      <td>No</td>\n",
       "    </tr>\n",
       "    <tr>\n",
       "      <th>12</th>\n",
       "      <td>25</td>\n",
       "      <td>Yes</td>\n",
       "      <td>Normal</td>\n",
       "      <td>30</td>\n",
       "      <td>No</td>\n",
       "    </tr>\n",
       "    <tr>\n",
       "      <th>13</th>\n",
       "      <td>60</td>\n",
       "      <td>Yes</td>\n",
       "      <td>Obese</td>\n",
       "      <td>20</td>\n",
       "      <td>No</td>\n",
       "    </tr>\n",
       "    <tr>\n",
       "      <th>14</th>\n",
       "      <td>44</td>\n",
       "      <td>Yes</td>\n",
       "      <td>Normal</td>\n",
       "      <td>40</td>\n",
       "      <td>No</td>\n",
       "    </tr>\n",
       "    <tr>\n",
       "      <th>15</th>\n",
       "      <td>26</td>\n",
       "      <td>Yes</td>\n",
       "      <td>Normal</td>\n",
       "      <td>20</td>\n",
       "      <td>No</td>\n",
       "    </tr>\n",
       "    <tr>\n",
       "      <th>16</th>\n",
       "      <td>57</td>\n",
       "      <td>Yes</td>\n",
       "      <td>Normal</td>\n",
       "      <td>60</td>\n",
       "      <td>No</td>\n",
       "    </tr>\n",
       "    <tr>\n",
       "      <th>17</th>\n",
       "      <td>43</td>\n",
       "      <td>No</td>\n",
       "      <td>Normal</td>\n",
       "      <td>30</td>\n",
       "      <td>No</td>\n",
       "    </tr>\n",
       "    <tr>\n",
       "      <th>18</th>\n",
       "      <td>58</td>\n",
       "      <td>Yes</td>\n",
       "      <td>Normal</td>\n",
       "      <td>0</td>\n",
       "      <td>Yes</td>\n",
       "    </tr>\n",
       "    <tr>\n",
       "      <th>19</th>\n",
       "      <td>49</td>\n",
       "      <td>No</td>\n",
       "      <td>Overweight</td>\n",
       "      <td>20</td>\n",
       "      <td>No</td>\n",
       "    </tr>\n",
       "  </tbody>\n",
       "</table>\n",
       "</div>"
      ],
      "text/plain": [
       "    Age Family         BMI  Exercise Type2Diabetic\n",
       "0    24     No      Normal        30            No\n",
       "1    53     No       Obese        20            No\n",
       "2    55     No  Overweight         0            No\n",
       "3    61    Yes      Normal        40            No\n",
       "4    43    Yes      Normal         0            No\n",
       "5    47    Yes  Overweight         0            No\n",
       "6    61    Yes  Overweight        40            No\n",
       "7    43     No       Obese        20            No\n",
       "8    54    Yes      Normal        20           Yes\n",
       "9    40    Yes  Overweight         0            No\n",
       "10   65    Yes  Overweight        60            No\n",
       "11   52    Yes  Overweight         0            No\n",
       "12   25    Yes      Normal        30            No\n",
       "13   60    Yes       Obese        20            No\n",
       "14   44    Yes      Normal        40            No\n",
       "15   26    Yes      Normal        20            No\n",
       "16   57    Yes      Normal        60            No\n",
       "17   43     No      Normal        30            No\n",
       "18   58    Yes      Normal         0           Yes\n",
       "19   49     No  Overweight        20            No"
      ]
     },
     "execution_count": 109,
     "metadata": {},
     "output_type": "execute_result"
    }
   ],
   "source": [
    "df.head(20)"
   ]
  },
  {
   "cell_type": "code",
   "execution_count": 110,
   "metadata": {},
   "outputs": [
    {
     "data": {
      "image/png": "[encoded data removed]",
      "text/plain": [
       "<Figure size 432x288 with 1 Axes>"
      ]
     },
     "metadata": {
      "needs_background": "light"
     },
     "output_type": "display_data"
    }
   ],
   "source": [
    "sns.violinplot(df['Age'], df['Type2Diabetic'])\n",
    "sns.despine()"
   ]
  },
  {
   "cell_type": "code",
   "execution_count": 112,
   "metadata": {},
   "outputs": [
    {
     "data": {
      "image/png": "[encoded data removed]",
      "text/plain": [
       "<Figure size 432x288 with 1 Axes>"
      ]
     },
     "metadata": {
      "needs_background": "light"
     },
     "output_type": "display_data"
    }
   ],
   "source": [
    "sns.violinplot(df['Exercise'], df['Type2Diabetic'])\n",
    "sns.despine()"
   ]
  },
  {
   "cell_type": "code",
   "execution_count": null,
   "metadata": {},
   "outputs": [],
   "source": []
  },
  {
   "cell_type": "code",
   "execution_count": null,
   "metadata": {},
   "outputs": [],
   "source": []
  },
  {
   "cell_type": "code",
   "execution_count": null,
   "metadata": {},
   "outputs": [],
   "source": []
  },
  {
   "cell_type": "code",
   "execution_count": null,
   "metadata": {},
   "outputs": [],
   "source": []
  },
  {
   "cell_type": "code",
   "execution_count": null,
   "metadata": {},
   "outputs": [],
   "source": []
  },
  {
   "cell_type": "markdown",
   "metadata": {},
   "source": [
    "# References\n",
    "\n",
    "- https://pynative.com/python-random-module/\n",
    "- https://www.dataquest.io/blog/how-to-analyze-survey-data-python-beginner/\n",
    "- https://www.cso.ie/en/statistics/\n",
    "- https://www.diabetes.ie/risk/\n",
    "- http://www.irishhealth.com/article.html?id=4528\n",
    "- https://www.irishtimes.com/life-and-style/health-family/type-2-diabetes-alarming-rise-in-number-at-risk-1.3481431\n",
    "- https://www.hse.ie/eng/health/az/d/diabetes,-type-2/diagnosing-type-2-diabetes.html\n",
    "- https://www.hse.ie/eng/about/who/healthwellbeing/our-priority-programmes/heal/key-facts/\n",
    "\n",
    "Video Tutorials:\n",
    "\n",
    "Python Tutorial: Generate Random Numbers and Data Using the random Module\n",
    "- https://www.youtube.com/watch?v=KzqSDvzOFNA\n",
    "- https://realpython.com/lessons/random-data-generation-python/"
   ]
  },
  {
   "cell_type": "code",
   "execution_count": null,
   "metadata": {},
   "outputs": [],
   "source": []
  }
 ],
 "metadata": {
  "kernelspec": {
   "display_name": "Python 3",
   "language": "python",
   "name": "python3"
  },
  "language_info": {
   "codemirror_mode": {
    "name": "ipython",
    "version": 3
   },
   "file_extension": ".py",
   "mimetype": "text/x-python",
   "name": "python",
   "nbconvert_exporter": "python",
   "pygments_lexer": "ipython3",
   "version": "3.7.1"
  }
 },
 "nbformat": 4,
 "nbformat_minor": 2
}
