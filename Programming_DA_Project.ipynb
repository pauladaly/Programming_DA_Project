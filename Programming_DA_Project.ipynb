{
 "cells": [
  {
   "cell_type": "markdown",
   "metadata": {},
   "source": [
    "# What is Synthetic Data?\n",
    "\n",
    "Synthetic data is manufactured information rather that recoreded from real-world events.  It's self-generated to try and mimic real world data."
   ]
  },
  {
   "cell_type": "markdown",
   "metadata": {},
   "source": [
    "# ARE YOU AT RISK OF TYPE 2 DIABETES?\n",
    "\n",
    "The number of people with diabetes in Ireland is growing rapidly. At present there are an estimated 200,000 people with the condition with approximately 30,000 of these undiagnosed.\n",
    "Knowing the symptoms and risk factors for Type 2 diabetes is important as non-diagnosis can seriously affect your quality of life. Undiagnosed or poor controlled diabetes can damage your heart, arteries, eyes, nerves and kidneys leading to serious health problems for you and your family to cope with.\n",
    "\n",
    "You are more at risk of getting Type 2 diabetes if you are:\n",
    "- Over 40 years of age\n",
    "- Have a parent or brother/sister with diabetes\n",
    "- Are overweight for your height - (BMI)\n",
    "- Do not take 30 minutes of physical activity daily\n",
    "\n",
    "Prediction\n",
    "\n",
    "\n",
    "These are the variables I have chosen for this project.\n",
    "The age group the analyses was completed on was 18 - 65 year olds with a sample of 200 people.\n",
    "\n",
    "Body Mass Categories are defined as follows:\n",
    "\n",
    "- Underweight: <18.5\n",
    "- Normal: 18.5 - 25\n",
    "- Overweight: 25 - 30\n",
    "- Obese: >30\n",
    "\n",
    "In Ireland 37% normal 37% Overweigh, 23% Obese, 3% Underweight\n",
    "\n",
    "Exercise\n",
    "32% of population considered to be sufficienly active to meet the national guidelines of 30 min per day\n",
    "\n",
    "Currenty population of ireland is 4.83 million\n",
    "\n",
    "Type 2 diabetes 200,000 approx\n"
   ]
  },
  {
   "cell_type": "code",
   "execution_count": null,
   "metadata": {},
   "outputs": [],
   "source": []
  },
  {
   "cell_type": "code",
   "execution_count": 1,
   "metadata": {},
   "outputs": [],
   "source": [
    "# Import required modules to create and analayse dataframe\n",
    "import pandas as pd\n",
    "import numpy as np\n",
    "import matplotlib.pyplot as plt"
   ]
  },
  {
   "cell_type": "code",
   "execution_count": 2,
   "metadata": {},
   "outputs": [
    {
     "name": "stdout",
     "output_type": "stream",
     "text": [
      "Empty DataFrame\n",
      "Columns: [Age, Family, BMI, Exercise]\n",
      "Index: []\n"
     ]
    }
   ],
   "source": [
    "# Create an empty dataframe with column names\n",
    "df = pd.DataFrame(columns=['Age', 'Family', 'BMI', 'Exercise'])\n",
    "\n",
    "# View the dataframe\n",
    "print(df)"
   ]
  },
  {
   "cell_type": "code",
   "execution_count": 3,
   "metadata": {},
   "outputs": [],
   "source": [
    "age = np.random.randint(18, 66, 200)"
   ]
  },
  {
   "cell_type": "code",
   "execution_count": 4,
   "metadata": {},
   "outputs": [
    {
     "data": {
      "text/plain": [
       "array([33, 65, 62, 60, 24, 43, 53, 34, 21, 26, 61, 49, 46, 65, 63, 53, 42,\n",
       "       39, 61, 27, 62, 64, 41, 62, 26, 62, 23, 45, 41, 43, 26, 49, 48, 30,\n",
       "       44, 44, 51, 40, 60, 62, 60, 60, 59, 55, 55, 38, 32, 36, 27, 29, 55,\n",
       "       26, 27, 21, 29, 47, 37, 58, 46, 56, 32, 45, 43, 39, 54, 30, 41, 56,\n",
       "       45, 20, 42, 38, 26, 34, 65, 39, 49, 23, 25, 22, 53, 41, 58, 56, 26,\n",
       "       28, 58, 20, 36, 60, 29, 26, 21, 61, 47, 39, 33, 31, 19, 18, 28, 30,\n",
       "       59, 40, 38, 44, 22, 65, 22, 26, 38, 31, 43, 47, 49, 37, 41, 22, 30,\n",
       "       63, 23, 26, 28, 35, 60, 56, 56, 56, 62, 26, 44, 44, 29, 52, 23, 21,\n",
       "       60, 53, 59, 50, 30, 37, 55, 62, 42, 23, 56, 23, 54, 22, 53, 61, 48,\n",
       "       58, 20, 40, 46, 49, 19, 56, 22, 61, 50, 61, 18, 54, 20, 24, 47, 41,\n",
       "       39, 52, 50, 21, 42, 20, 26, 23, 53, 57, 55, 53, 38, 35, 60, 53, 58,\n",
       "       41, 22, 51, 59, 23, 24, 40, 56, 52, 20, 35, 56, 25])"
      ]
     },
     "execution_count": 4,
     "metadata": {},
     "output_type": "execute_result"
    }
   ],
   "source": [
    "# Generate Age column - between 18 and 65\n",
    "\n",
    "age = np.random.randint(18, 66, 200)\n",
    "age"
   ]
  },
  {
   "cell_type": "code",
   "execution_count": 5,
   "metadata": {},
   "outputs": [
    {
     "data": {
      "text/plain": [
       "41.8"
      ]
     },
     "execution_count": 5,
     "metadata": {},
     "output_type": "execute_result"
    }
   ],
   "source": [
    "# Avearage age\n",
    "np.mean(age)"
   ]
  },
  {
   "cell_type": "code",
   "execution_count": 8,
   "metadata": {},
   "outputs": [
    {
     "data": {
      "text/plain": [
       "array(['Yes', 'Yes', 'Yes', 'No', 'Yes', 'No', 'No', 'No', 'Yes', 'Yes',\n",
       "       'No', 'Yes', 'No', 'No', 'Yes', 'Yes', 'No', 'No', 'No', 'Yes',\n",
       "       'Yes', 'Yes', 'No', 'No', 'No', 'No', 'No', 'No', 'No', 'Yes',\n",
       "       'No', 'Yes', 'Yes', 'Yes', 'No', 'Yes', 'Yes', 'No', 'No', 'Yes',\n",
       "       'Yes', 'No', 'No', 'Yes', 'Yes', 'Yes', 'Yes', 'Yes', 'Yes', 'No',\n",
       "       'Yes', 'Yes', 'No', 'Yes', 'Yes', 'Yes', 'Yes', 'Yes', 'Yes',\n",
       "       'Yes', 'Yes', 'Yes', 'Yes', 'Yes', 'No', 'Yes', 'Yes', 'Yes', 'No',\n",
       "       'Yes', 'No', 'Yes', 'Yes', 'Yes', 'No', 'Yes', 'No', 'No', 'Yes',\n",
       "       'Yes', 'Yes', 'No', 'No', 'Yes', 'Yes', 'Yes', 'Yes', 'No', 'No',\n",
       "       'No', 'Yes', 'Yes', 'No', 'Yes', 'Yes', 'Yes', 'Yes', 'Yes', 'Yes',\n",
       "       'Yes', 'Yes', 'No', 'Yes', 'Yes', 'No', 'Yes', 'Yes', 'Yes', 'No',\n",
       "       'No', 'Yes', 'Yes', 'No', 'Yes', 'Yes', 'Yes', 'Yes', 'Yes', 'Yes',\n",
       "       'Yes', 'Yes', 'Yes', 'Yes', 'No', 'Yes', 'Yes', 'Yes', 'No', 'Yes',\n",
       "       'Yes', 'Yes', 'Yes', 'Yes', 'Yes', 'No', 'Yes', 'Yes', 'No', 'Yes',\n",
       "       'Yes', 'No', 'Yes', 'Yes', 'Yes', 'Yes', 'Yes', 'Yes', 'Yes',\n",
       "       'Yes', 'Yes', 'No', 'Yes', 'Yes', 'Yes', 'No', 'No', 'Yes', 'No',\n",
       "       'Yes', 'Yes', 'No', 'Yes', 'Yes', 'Yes', 'Yes', 'No', 'No', 'Yes',\n",
       "       'Yes', 'No', 'Yes', 'Yes', 'Yes', 'Yes', 'No', 'Yes', 'No', 'No',\n",
       "       'Yes', 'Yes', 'Yes', 'Yes', 'No', 'Yes', 'Yes', 'Yes', 'Yes',\n",
       "       'Yes', 'No', 'Yes', 'Yes', 'Yes', 'Yes', 'Yes', 'Yes', 'No', 'Yes',\n",
       "       'Yes', 'Yes', 'Yes'], dtype='<U3')"
      ]
     },
     "execution_count": 8,
     "metadata": {},
     "output_type": "execute_result"
    }
   ],
   "source": [
    "# Genearate Family (yes/no)\n",
    "Family = ['Yes', 'No']\n",
    "\n",
    "# Populate Family using probabilities\n",
    "Family = np.random.choice(Family, 200, p=[0.70, 0.30])\n",
    "\n",
    "Family"
   ]
  },
  {
   "cell_type": "code",
   "execution_count": 9,
   "metadata": {},
   "outputs": [
    {
     "data": {
      "text/plain": [
       "array(['Obese', 'Normal', 'Obese', 'Normal', 'Overweight', 'Normal',\n",
       "       'Normal', 'Obese', 'Obese', 'Obese', 'Normal', 'Normal',\n",
       "       'Overweight', 'Obese', 'Normal', 'Overweight', 'Obese', 'Normal',\n",
       "       'Obese', 'Normal', 'Normal', 'Normal', 'Overweight', 'Overweight',\n",
       "       'Overweight', 'Normal', 'Overweight', 'Obese', 'Normal',\n",
       "       'Overweight', 'Obese', 'Overweight', 'Normal', 'Overweight',\n",
       "       'Normal', 'Normal', 'Obese', 'Overweight', 'Normal', 'Obese',\n",
       "       'Normal', 'Normal', 'Normal', 'Obese', 'Normal', 'Normal', 'Obese',\n",
       "       'Normal', 'Overweight', 'Overweight', 'Normal', 'Overweight',\n",
       "       'Overweight', 'Normal', 'Underweight', 'Normal', 'Obese', 'Obese',\n",
       "       'Obese', 'Normal', 'Normal', 'Obese', 'Obese', 'Obese',\n",
       "       'Overweight', 'Obese', 'Overweight', 'Overweight', 'Overweight',\n",
       "       'Overweight', 'Overweight', 'Underweight', 'Obese', 'Obese',\n",
       "       'Obese', 'Underweight', 'Underweight', 'Normal', 'Obese', 'Obese',\n",
       "       'Normal', 'Overweight', 'Underweight', 'Overweight', 'Obese',\n",
       "       'Normal', 'Normal', 'Overweight', 'Overweight', 'Normal', 'Normal',\n",
       "       'Normal', 'Overweight', 'Overweight', 'Normal', 'Overweight',\n",
       "       'Normal', 'Overweight', 'Obese', 'Underweight', 'Obese', 'Normal',\n",
       "       'Overweight', 'Overweight', 'Overweight', 'Normal', 'Overweight',\n",
       "       'Normal', 'Overweight', 'Overweight', 'Obese', 'Overweight',\n",
       "       'Obese', 'Normal', 'Overweight', 'Normal', 'Obese', 'Overweight',\n",
       "       'Overweight', 'Overweight', 'Normal', 'Normal', 'Overweight',\n",
       "       'Overweight', 'Normal', 'Underweight', 'Overweight', 'Obese',\n",
       "       'Overweight', 'Overweight', 'Normal', 'Normal', 'Overweight',\n",
       "       'Obese', 'Obese', 'Overweight', 'Normal', 'Normal', 'Normal',\n",
       "       'Normal', 'Overweight', 'Overweight', 'Normal', 'Normal',\n",
       "       'Overweight', 'Overweight', 'Obese', 'Normal', 'Overweight',\n",
       "       'Normal', 'Overweight', 'Normal', 'Obese', 'Obese', 'Normal',\n",
       "       'Normal', 'Normal', 'Normal', 'Normal', 'Normal', 'Normal',\n",
       "       'Obese', 'Obese', 'Obese', 'Normal', 'Underweight', 'Overweight',\n",
       "       'Overweight', 'Normal', 'Normal', 'Normal', 'Overweight', 'Normal',\n",
       "       'Normal', 'Overweight', 'Normal', 'Overweight', 'Normal',\n",
       "       'Underweight', 'Overweight', 'Obese', 'Normal', 'Overweight',\n",
       "       'Overweight', 'Overweight', 'Normal', 'Overweight', 'Obese',\n",
       "       'Normal', 'Normal', 'Normal', 'Normal', 'Overweight', 'Obese',\n",
       "       'Obese', 'Overweight', 'Underweight', 'Underweight', 'Normal',\n",
       "       'Normal'], dtype='<U11')"
      ]
     },
     "execution_count": 9,
     "metadata": {},
     "output_type": "execute_result"
    }
   ],
   "source": [
    "# Generate BMI\n",
    "BMI = ['Underweight', 'Normal', 'Overweight', 'Obese']\n",
    "\n",
    "# Populate BMI using probabilities\n",
    "BMI = np.random.choice(BMI, 200, p=[0.03, 0.37, 0.37, 0.23])\n",
    "\n",
    "BMI"
   ]
  },
  {
   "cell_type": "code",
   "execution_count": 11,
   "metadata": {},
   "outputs": [
    {
     "data": {
      "text/plain": [
       "array(['No', 'Yes', 'No', 'No', 'No', 'No', 'No', 'No', 'Yes', 'Yes',\n",
       "       'Yes', 'Yes', 'No', 'No', 'Yes', 'No', 'No', 'No', 'No', 'No',\n",
       "       'Yes', 'Yes', 'Yes', 'No', 'No', 'No', 'Yes', 'No', 'No', 'No',\n",
       "       'No', 'Yes', 'Yes', 'No', 'Yes', 'No', 'Yes', 'No', 'Yes', 'No',\n",
       "       'No', 'No', 'No', 'No', 'No', 'No', 'No', 'No', 'No', 'Yes', 'Yes',\n",
       "       'No', 'No', 'No', 'Yes', 'No', 'Yes', 'Yes', 'No', 'No', 'No',\n",
       "       'No', 'No', 'Yes', 'No', 'No', 'No', 'No', 'Yes', 'No', 'No', 'No',\n",
       "       'Yes', 'No', 'No', 'Yes', 'No', 'Yes', 'No', 'No', 'No', 'No',\n",
       "       'No', 'No', 'Yes', 'No', 'No', 'No', 'Yes', 'No', 'No', 'Yes',\n",
       "       'No', 'Yes', 'Yes', 'Yes', 'Yes', 'Yes', 'No', 'Yes', 'No', 'Yes',\n",
       "       'No', 'No', 'No', 'No', 'No', 'Yes', 'Yes', 'No', 'Yes', 'Yes',\n",
       "       'Yes', 'No', 'Yes', 'No', 'No', 'No', 'No', 'Yes', 'No', 'No',\n",
       "       'No', 'No', 'Yes', 'Yes', 'No', 'No', 'Yes', 'No', 'No', 'Yes',\n",
       "       'Yes', 'No', 'No', 'No', 'Yes', 'No', 'Yes', 'No', 'Yes', 'No',\n",
       "       'Yes', 'No', 'No', 'No', 'No', 'No', 'Yes', 'No', 'No', 'No',\n",
       "       'Yes', 'No', 'Yes', 'No', 'No', 'Yes', 'No', 'No', 'No', 'No',\n",
       "       'Yes', 'No', 'No', 'Yes', 'No', 'No', 'No', 'No', 'Yes', 'No',\n",
       "       'No', 'No', 'Yes', 'No', 'Yes', 'No', 'No', 'No', 'Yes', 'Yes',\n",
       "       'No', 'Yes', 'No', 'No', 'No', 'Yes', 'No', 'Yes', 'No', 'No',\n",
       "       'No', 'Yes', 'No', 'No', 'Yes', 'Yes', 'No', 'No'], dtype='<U3')"
      ]
     },
     "execution_count": 11,
     "metadata": {},
     "output_type": "execute_result"
    }
   ],
   "source": [
    "# Exercise\n",
    "Exercise = ['Yes', 'No']\n",
    "\n",
    "# Populate Exercise using probabilities\n",
    "Exercise = np.random.choice(Exercise, 200, p=[0.32, 0.68])\n",
    "\n",
    "Exercise"
   ]
  },
  {
   "cell_type": "code",
   "execution_count": null,
   "metadata": {},
   "outputs": [],
   "source": [
    "df.head(20)"
   ]
  },
  {
   "cell_type": "code",
   "execution_count": null,
   "metadata": {},
   "outputs": [],
   "source": []
  },
  {
   "cell_type": "code",
   "execution_count": null,
   "metadata": {},
   "outputs": [],
   "source": []
  },
  {
   "cell_type": "code",
   "execution_count": null,
   "metadata": {},
   "outputs": [],
   "source": []
  },
  {
   "cell_type": "markdown",
   "metadata": {},
   "source": [
    "# References\n",
    "\n",
    "- https://pynative.com/python-random-module/\n",
    "- https://www.dataquest.io/blog/how-to-analyze-survey-data-python-beginner/\n",
    "- https://www.cso.ie/en/statistics/\n",
    "- https://www.diabetes.ie/risk/\n",
    "- http://www.irishhealth.com/article.html?id=4528\n",
    "- https://www.irishtimes.com/life-and-style/health-family/type-2-diabetes-alarming-rise-in-number-at-risk-1.3481431\n",
    "- https://www.hse.ie/eng/health/az/d/diabetes,-type-2/diagnosing-type-2-diabetes.html\n",
    "- https://www.hse.ie/eng/about/who/healthwellbeing/our-priority-programmes/heal/key-facts/\n",
    "\n",
    "Video Tutorials:\n",
    "\n",
    "Python Tutorial: Generate Random Numbers and Data Using the random Module\n",
    "- https://www.youtube.com/watch?v=KzqSDvzOFNA\n",
    "- https://realpython.com/lessons/random-data-generation-python/"
   ]
  },
  {
   "cell_type": "code",
   "execution_count": null,
   "metadata": {},
   "outputs": [],
   "source": []
  }
 ],
 "metadata": {
  "kernelspec": {
   "display_name": "Python 3",
   "language": "python",
   "name": "python3"
  },
  "language_info": {
   "codemirror_mode": {
    "name": "ipython",
    "version": 3
   },
   "file_extension": ".py",
   "mimetype": "text/x-python",
   "name": "python",
   "nbconvert_exporter": "python",
   "pygments_lexer": "ipython3",
   "version": "3.7.1"
  }
 },
 "nbformat": 4,
 "nbformat_minor": 2
}
